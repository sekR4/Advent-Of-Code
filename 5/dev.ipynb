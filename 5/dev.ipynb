{
 "cells": [
  {
   "cell_type": "code",
   "execution_count": 1,
   "metadata": {},
   "outputs": [
    {
     "name": "stdout",
     "output_type": "stream",
     "text": [
      "  % Total    % Received % Xferd  Average Speed   Time    Time     Time  Current\n",
      "                                 Dload  Upload   Total   Spent    Left  Speed\n",
      "100  9950  100  9950    0     0  22072      0 --:--:-- --:--:-- --:--:-- 22309\n"
     ]
    }
   ],
   "source": [
    "from dotenv import load_dotenv\n",
    "load_dotenv()\n",
    "\n",
    "!curl  -o input.txt 'https://adventofcode.com/2022/day/5/input' -H \"Cookie: session=$COOKIE\"\n",
    "\n",
    "with open(\"input.txt\", \"r\") as f:\n",
    "    raw_input = f.read()"
   ]
  },
  {
   "cell_type": "markdown",
   "metadata": {},
   "source": [
    "--- Part One ---\n",
    "\n",
    "After the rearrangement procedure completes, what crate ends up on top of each stack?"
   ]
  },
  {
   "cell_type": "code",
   "execution_count": 43,
   "metadata": {},
   "outputs": [],
   "source": [
    "example_input = \"\"\"[-] [D] [-]\n",
    "[N] [C] [-]  \n",
    "[Z] [M] [P]\n",
    " 1   2   3 \n",
    "\n",
    "move 1 from 2 to 1\n",
    "move 3 from 1 to 3\n",
    "move 2 from 2 to 1\n",
    "move 1 from 1 to 2\"\"\""
   ]
  },
  {
   "cell_type": "code",
   "execution_count": 69,
   "metadata": {},
   "outputs": [],
   "source": [
    "def clean_stack(stack):\n",
    "    for i,c in enumerate(stack):\n",
    "        c = c.replace(\"[\", \"\")\n",
    "        c = c.replace(\"]\", \"\")\n",
    "        c = c.replace(\" \", \"\")\n",
    "\n",
    "        # if c equals \"-\", replace with None\n",
    "        \n",
    "\n",
    "    # for c in stack:\n",
    "    #     if c == \"-\":\n",
    "    #         stack.replace(None)\n",
    "    # return stack"
   ]
  },
  {
   "cell_type": "code",
   "execution_count": 92,
   "metadata": {},
   "outputs": [
    {
     "name": "stdout",
     "output_type": "stream",
     "text": [
      "[None, 'D', None]\n",
      "['N', 'C', None]\n",
      "['Z', 'M', 'P']\n"
     ]
    }
   ],
   "source": [
    "stacks, moves = example_input.split(\"\\n\\n\")\n",
    "\n",
    "stacks = stacks.split(\"\\n\")\n",
    "n_stacks = len(stacks) - 1 # don't need the number line\n",
    "\n",
    "\n",
    "# Make a list of each element in each stack\n",
    "stacks = [stack.split() for stack in stacks[:-1]]\n",
    "\n",
    "# Clean up the stacks\n",
    "for stack in stacks:\n",
    "    for i,box in enumerate(stack):\n",
    "        box = box.replace(\"[\", \"\")\n",
    "        box = box.replace(\"]\", \"\")\n",
    "        box = box.replace(\" \", \"\")\n",
    "        if box == \"-\":\n",
    "            stack[i] = None\n",
    "        else:\n",
    "            stack[i] = box\n",
    "\n",
    "for stack_level in stacks:\n",
    "    print(stack_level)"
   ]
  },
  {
   "cell_type": "code",
   "execution_count": 9,
   "metadata": {},
   "outputs": [
    {
     "data": {
      "text/plain": [
       "['move 1 from 2 to 1',\n",
       " 'move 3 from 1 to 3',\n",
       " 'move 2 from 2 to 1',\n",
       " 'move 1 from 1 to 2']"
      ]
     },
     "execution_count": 9,
     "metadata": {},
     "output_type": "execute_result"
    }
   ],
   "source": [
    "moves.split(\"\\n\")"
   ]
  },
  {
   "cell_type": "code",
   "execution_count": 93,
   "metadata": {},
   "outputs": [
    {
     "name": "stdout",
     "output_type": "stream",
     "text": [
      "  % Total    % Received % Xferd  Average Speed   Time    Time     Time  Current\n",
      "                                 Dload  Upload   Total   Spent    Left  Speed\n",
      "100  9950  100  9950    0     0  21955      0 --:--:-- --:--:-- --:--:-- 22111\n"
     ]
    }
   ],
   "source": [
    "# I give up and simply copy and paste to move on\n",
    "# Source https://github.com/womogenes/AoC-2022-Solutions/blob/main/day_05/day_05_p1.py\n",
    "\n",
    "!curl  -o input.txt 'https://adventofcode.com/2022/day/5/input' -H \"Cookie: session=$COOKIE\"\n",
    "\n",
    "with open(\"input.txt\", \"r\") as f:\n",
    "    raw_input = f.read()"
   ]
  },
  {
   "cell_type": "code",
   "execution_count": 94,
   "metadata": {},
   "outputs": [
    {
     "name": "stdout",
     "output_type": "stream",
     "text": [
      "SVFDLGLWV\n"
     ]
    }
   ],
   "source": [
    "N = 9\n",
    "drawing_lines = 8\n",
    "\n",
    "with open(\"input.txt\") as fin:\n",
    "    parts = fin.read()[:-1].split(\"\\n\\n\")\n",
    "    drawing = parts[0].split(\"\\n\")\n",
    "    stacks = [[] for _ in range(N)]\n",
    "\n",
    "    for i in range(drawing_lines):\n",
    "        line = drawing[i]\n",
    "        crates = line[1::4]\n",
    "        for s in range(len(crates)):\n",
    "            if crates[s] != \" \":\n",
    "                stacks[s].append(crates[s])\n",
    "\n",
    "# Reverse all stacks\n",
    "stacks = [stack[::-1] for stack in stacks]\n",
    "\n",
    "# Move things around\n",
    "for line in parts[1].split(\"\\n\"):\n",
    "    tokens = line.split(\" \")\n",
    "    n, src, dst = map(int, [tokens[1], tokens[3], tokens[5]])\n",
    "    src -= 1\n",
    "    dst -= 1\n",
    "\n",
    "    for _ in range(n):\n",
    "        pop = stacks[src].pop()\n",
    "        stacks[dst].append(pop)\n",
    "\n",
    "\n",
    "tops = [stack[-1] for stack in stacks]\n",
    "print(\"\".join(tops))"
   ]
  },
  {
   "cell_type": "code",
   "execution_count": 95,
   "metadata": {},
   "outputs": [
    {
     "name": "stdout",
     "output_type": "stream",
     "text": [
      "DCVTCVPCL\n"
     ]
    }
   ],
   "source": [
    "N = 9\n",
    "drawing_lines = 8\n",
    "\n",
    "with open(\"input.txt\") as fin:\n",
    "    parts = fin.read()[:-1].split(\"\\n\\n\")\n",
    "    drawing = parts[0].split(\"\\n\")\n",
    "    stacks = [[] for _ in range(N)]\n",
    "\n",
    "    for i in range(drawing_lines):\n",
    "        line = drawing[i]\n",
    "        crates = line[1::4]\n",
    "        for s in range(len(crates)):\n",
    "            if crates[s] != \" \":\n",
    "                stacks[s].append(crates[s])\n",
    "\n",
    "# Reverse all stacks\n",
    "stacks = [stack[::-1] for stack in stacks]\n",
    "\n",
    "\n",
    "# Move things around\n",
    "for line in parts[1].split(\"\\n\"):\n",
    "    tokens = line.split(\" \")\n",
    "    n, src, dst = map(int, [tokens[1], tokens[3], tokens[5]])\n",
    "    src -= 1\n",
    "    dst -= 1\n",
    "\n",
    "    stacks[dst].extend(stacks[src][-n:])\n",
    "    stacks[src] = stacks[src][:-n]\n",
    "\n",
    "\n",
    "tops = [stack[-1] for stack in stacks]\n",
    "print(\"\".join(tops))"
   ]
  },
  {
   "cell_type": "code",
   "execution_count": null,
   "metadata": {},
   "outputs": [],
   "source": []
  }
 ],
 "metadata": {
  "kernelspec": {
   "display_name": "Python 3.9.14 64-bit ('dev1')",
   "language": "python",
   "name": "python3"
  },
  "language_info": {
   "codemirror_mode": {
    "name": "ipython",
    "version": 3
   },
   "file_extension": ".py",
   "mimetype": "text/x-python",
   "name": "python",
   "nbconvert_exporter": "python",
   "pygments_lexer": "ipython3",
   "version": "3.9.14"
  },
  "orig_nbformat": 4,
  "vscode": {
   "interpreter": {
    "hash": "43024da5a2ed88f77cfc76b331d197ce3f9b07e215683ddd297a183bcee9c4e4"
   }
  }
 },
 "nbformat": 4,
 "nbformat_minor": 2
}
