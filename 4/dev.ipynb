{
 "cells": [
  {
   "cell_type": "code",
   "execution_count": 1,
   "metadata": {},
   "outputs": [
    {
     "name": "stdout",
     "output_type": "stream",
     "text": [
      "  % Total    % Received % Xferd  Average Speed   Time    Time     Time  Current\n",
      "                                 Dload  Upload   Total   Spent    Left  Speed\n",
      "100 11361  100 11361    0     0  28899      0 --:--:-- --:--:-- --:--:-- 29056\n"
     ]
    }
   ],
   "source": [
    "from dotenv import load_dotenv\n",
    "load_dotenv()\n",
    "\n",
    "!curl  -o input.txt 'https://adventofcode.com/2022/day/4/input' -H \"Cookie: session=$COOKIE\"\n",
    "\n",
    "with open(\"input.txt\", \"r\") as f:\n",
    "    raw_input = f.read()"
   ]
  },
  {
   "cell_type": "markdown",
   "metadata": {},
   "source": [
    "-- Part One ---\n",
    "In how many assignment pairs does one range fully contain the other?"
   ]
  },
  {
   "cell_type": "code",
   "execution_count": 3,
   "metadata": {},
   "outputs": [],
   "source": [
    "example_input = \"\"\"2-4,6-8\n",
    "2-3,4-5\n",
    "5-7,7-9\n",
    "2-8,3-7\n",
    "6-6,4-6\n",
    "2-6,4-8\"\"\""
   ]
  },
  {
   "cell_type": "code",
   "execution_count": 20,
   "metadata": {},
   "outputs": [
    {
     "data": {
      "text/plain": [
       "538"
      ]
     },
     "execution_count": 20,
     "metadata": {},
     "output_type": "execute_result"
    }
   ],
   "source": [
    "sum_overlaps = 0\n",
    "\n",
    "for line in raw_input.splitlines():\n",
    "    \n",
    "    # Create ranges and convert them to lists for each member of line.split(\",\")\n",
    "    sections_elf_1, sections_elf_2 = line.split(\",\")\n",
    "    \n",
    "    start_1, end_1 = sections_elf_1.split(\"-\")\n",
    "    start_2, end_2 = sections_elf_2.split(\"-\")\n",
    "    \n",
    "    sections_elf_1 = list(range(int(start_1), int(end_1) + 1))\n",
    "    sections_elf_2 = list(range(int(start_2), int(end_2) + 1))\n",
    "\n",
    "    # Check if one section fully contains the other\n",
    "    if sections_elf_1[0] <= sections_elf_2[0] and sections_elf_1[-1] >= sections_elf_2[-1]:\n",
    "        sum_overlaps += 1\n",
    "    elif sections_elf_2[0] <= sections_elf_1[0] and sections_elf_2[-1] >= sections_elf_1[-1]:\n",
    "        sum_overlaps += 1\n",
    "\n",
    "sum_overlaps"
   ]
  },
  {
   "cell_type": "markdown",
   "metadata": {},
   "source": [
    "--- Part Two ---"
   ]
  },
  {
   "cell_type": "code",
   "execution_count": 21,
   "metadata": {},
   "outputs": [
    {
     "data": {
      "text/plain": [
       "792"
      ]
     },
     "execution_count": 21,
     "metadata": {},
     "output_type": "execute_result"
    }
   ],
   "source": [
    "sum_overlaps = 0\n",
    "\n",
    "for line in raw_input.splitlines():\n",
    "    \n",
    "    # Create ranges and convert them to lists for each member of line.split(\",\")\n",
    "    sections_elf_1, sections_elf_2 = line.split(\",\")\n",
    "    \n",
    "    start_1, end_1 = sections_elf_1.split(\"-\")\n",
    "    start_2, end_2 = sections_elf_2.split(\"-\")\n",
    "    \n",
    "    sections_elf_1 = list(range(int(start_1), int(end_1) + 1))\n",
    "    sections_elf_2 = list(range(int(start_2), int(end_2) + 1))\n",
    "\n",
    "    # Check if there is any overlap\n",
    "    if len(set(sections_elf_1).intersection(sections_elf_2)) > 0:\n",
    "        sum_overlaps += 1\n",
    "\n",
    "sum_overlaps"
   ]
  }
 ],
 "metadata": {
  "kernelspec": {
   "display_name": "Python 3.9.14 64-bit ('dev1')",
   "language": "python",
   "name": "python3"
  },
  "language_info": {
   "codemirror_mode": {
    "name": "ipython",
    "version": 3
   },
   "file_extension": ".py",
   "mimetype": "text/x-python",
   "name": "python",
   "nbconvert_exporter": "python",
   "pygments_lexer": "ipython3",
   "version": "3.9.14"
  },
  "orig_nbformat": 4,
  "vscode": {
   "interpreter": {
    "hash": "43024da5a2ed88f77cfc76b331d197ce3f9b07e215683ddd297a183bcee9c4e4"
   }
  }
 },
 "nbformat": 4,
 "nbformat_minor": 2
}
