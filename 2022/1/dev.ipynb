{
 "cells": [
  {
   "cell_type": "code",
   "execution_count": 8,
   "metadata": {},
   "outputs": [],
   "source": [
    "# Read input file\n",
    "with open(\"in.txt\", \"r\") as f:\n",
    "    raw_input = f.read()"
   ]
  },
  {
   "cell_type": "code",
   "execution_count": 25,
   "metadata": {},
   "outputs": [
    {
     "name": "stdout",
     "output_type": "stream",
     "text": [
      "The strongest elf carries 69912 calories.\n"
     ]
    }
   ],
   "source": [
    "max_sum = 0\n",
    "for elf in raw_input.split(\"\\n\\n\"):\n",
    "    curr_sum = sum(int(food) for food in  elf.splitlines())\n",
    "    if curr_sum > max_sum:\n",
    "        max_sum = curr_sum\n",
    "print(f\"The strongest elf carries {max_sum} calories.\")"
   ]
  },
  {
   "cell_type": "code",
   "execution_count": 32,
   "metadata": {},
   "outputs": [
    {
     "name": "stdout",
     "output_type": "stream",
     "text": [
      "The top 3 elfs are carrying 208180 calories.\n"
     ]
    }
   ],
   "source": [
    "all_sums = []\n",
    "for elf in raw_input.split(\"\\n\\n\"):\n",
    "    all_sums.append(sum(int(food) for food in  elf.splitlines()))\n",
    "\n",
    "print(f\"The top 3 elfs are carrying {sum(sorted(all_sums, reverse=True)[:3])} calories.\")"
   ]
  }
 ],
 "metadata": {
  "kernelspec": {
   "display_name": "Python 3.9.14 64-bit ('dev1')",
   "language": "python",
   "name": "python3"
  },
  "language_info": {
   "codemirror_mode": {
    "name": "ipython",
    "version": 3
   },
   "file_extension": ".py",
   "mimetype": "text/x-python",
   "name": "python",
   "nbconvert_exporter": "python",
   "pygments_lexer": "ipython3",
   "version": "3.9.14"
  },
  "orig_nbformat": 4,
  "vscode": {
   "interpreter": {
    "hash": "43024da5a2ed88f77cfc76b331d197ce3f9b07e215683ddd297a183bcee9c4e4"
   }
  }
 },
 "nbformat": 4,
 "nbformat_minor": 2
}
