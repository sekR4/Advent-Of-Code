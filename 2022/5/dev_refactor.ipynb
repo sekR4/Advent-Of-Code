{
 "cells": [
  {
   "cell_type": "code",
   "execution_count": 1,
   "metadata": {},
   "outputs": [
    {
     "name": "stdout",
     "output_type": "stream",
     "text": [
      "  % Total    % Received % Xferd  Average Speed   Time    Time     Time  Current\n",
      "                                 Dload  Upload   Total   Spent    Left  Speed\n",
      "100  9950  100  9950    0     0  21165      0 --:--:-- --:--:-- --:--:-- 21306\n"
     ]
    }
   ],
   "source": [
    "from dotenv import load_dotenv\n",
    "load_dotenv()\n",
    "\n",
    "!curl  -o input.txt 'https://adventofcode.com/2022/day/5/input' -H \"Cookie: session=$COOKIE\""
   ]
  },
  {
   "cell_type": "code",
   "execution_count": 2,
   "metadata": {},
   "outputs": [],
   "source": [
    "with open(\"input.txt\", \"r\") as f:\n",
    "    raw_input = f.read()"
   ]
  },
  {
   "cell_type": "markdown",
   "metadata": {},
   "source": [
    "--- Part One ---\n",
    "\n",
    "After the rearrangement procedure completes, what crate ends up on top of each stack?"
   ]
  },
  {
   "cell_type": "code",
   "execution_count": 3,
   "metadata": {},
   "outputs": [],
   "source": [
    "example_input = \"\"\"    [D]    \n",
    "[N] [C]    \n",
    "[Z] [M] [P]\n",
    " 1   2   3 \n",
    "\n",
    "move 1 from 2 to 1\n",
    "move 3 from 1 to 3\n",
    "move 2 from 2 to 1\n",
    "move 1 from 1 to 2\"\"\""
   ]
  },
  {
   "cell_type": "code",
   "execution_count": 29,
   "metadata": {},
   "outputs": [],
   "source": [
    "stack_level, moves = example_input.split(\"\\n\\n\")\n",
    "stack_level, stack_numbers = stack_level.split(\"\\n\")[:-1] ,stack_level.split(\"\\n\")[-1]"
   ]
  },
  {
   "cell_type": "code",
   "execution_count": 32,
   "metadata": {},
   "outputs": [
    {
     "data": {
      "text/plain": [
       "['[Z] [M] [P]', '[N] [C]    ', '    [D]    ']"
      ]
     },
     "execution_count": 32,
     "metadata": {},
     "output_type": "execute_result"
    }
   ],
   "source": [
    "n_stacks = int(stack_numbers.split()[-1])\n",
    "\n",
    "# Reverse the stack level\n",
    "stack_level = stack_level[::-1]\n",
    "stack_level"
   ]
  },
  {
   "cell_type": "code",
   "execution_count": 47,
   "metadata": {},
   "outputs": [
    {
     "data": {
      "text/plain": [
       "[[['['], ['[']],\n",
       " [['Z'], ['N']],\n",
       " [[']'], [']']],\n",
       " [],\n",
       " [['['], ['['], ['[']],\n",
       " [['M'], ['C'], ['D']],\n",
       " [[']'], [']'], [']']],\n",
       " [],\n",
       " [['[']],\n",
       " [['P']],\n",
       " [[']']]]"
      ]
     },
     "execution_count": 47,
     "metadata": {},
     "output_type": "execute_result"
    }
   ],
   "source": [
    "# Change ['[Z] [M] [P]', '[N] [C]    ', '    [D]    ']\n",
    "# to [ [[Z], [N]], [[M], [C], [D]], [[P]] ]\n",
    "stacks = [ [ [stack_level[i][j]] for i in range(len(stack_level)) if stack_level[i][j] != \" \" ] for j in range(len(stack_level[0])) ]\n",
    "stacks"
   ]
  },
  {
   "cell_type": "code",
   "execution_count": 57,
   "metadata": {},
   "outputs": [
    {
     "data": {
      "text/plain": [
       "[['Z', 'N'], ['M', 'C', 'D'], ['P']]"
      ]
     },
     "execution_count": 57,
     "metadata": {},
     "output_type": "execute_result"
    }
   ],
   "source": [
    "list_of_stacks = []\n",
    "\n",
    "for line in stacks:\n",
    "    current_stack = []\n",
    "    if len(line) > 0:\n",
    "        \n",
    "        for cell in line:\n",
    "            # contains alnum    \n",
    "            if cell[0].isalnum():\n",
    "                current_stack.append(cell[0])\n",
    "    if len(current_stack) > 0:\n",
    "        list_of_stacks.append(current_stack)\n",
    "\n",
    "list_of_stacks"
   ]
  },
  {
   "cell_type": "code",
   "execution_count": 59,
   "metadata": {},
   "outputs": [],
   "source": [
    "# move 1 from 2 to 1\n",
    "n_boxes = 1\n",
    "boxes_to_move = list_of_stacks[1][-n_boxes:]\n",
    "list_of_stacks[1].pop()\n",
    "list_of_stacks[0].extend(boxes_to_move)"
   ]
  },
  {
   "cell_type": "code",
   "execution_count": 60,
   "metadata": {},
   "outputs": [
    {
     "data": {
      "text/plain": [
       "[['Z', 'N', 'D'], ['M', 'C'], ['P']]"
      ]
     },
     "execution_count": 60,
     "metadata": {},
     "output_type": "execute_result"
    }
   ],
   "source": [
    "list_of_stacks"
   ]
  }
 ],
 "metadata": {
  "kernelspec": {
   "display_name": "Python 3.9.14 64-bit ('dev1')",
   "language": "python",
   "name": "python3"
  },
  "language_info": {
   "codemirror_mode": {
    "name": "ipython",
    "version": 3
   },
   "file_extension": ".py",
   "mimetype": "text/x-python",
   "name": "python",
   "nbconvert_exporter": "python",
   "pygments_lexer": "ipython3",
   "version": "3.9.14"
  },
  "orig_nbformat": 4,
  "vscode": {
   "interpreter": {
    "hash": "43024da5a2ed88f77cfc76b331d197ce3f9b07e215683ddd297a183bcee9c4e4"
   }
  }
 },
 "nbformat": 4,
 "nbformat_minor": 2
}
