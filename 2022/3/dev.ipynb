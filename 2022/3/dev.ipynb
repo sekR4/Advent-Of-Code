{
 "cells": [
  {
   "cell_type": "code",
   "execution_count": 1,
   "metadata": {},
   "outputs": [
    {
     "name": "stdout",
     "output_type": "stream",
     "text": [
      "  % Total    % Received % Xferd  Average Speed   Time    Time     Time  Current\n",
      "                                 Dload  Upload   Total   Spent    Left  Speed\n",
      "100  9788  100  9788    0     0  21752      0 --:--:-- --:--:-- --:--:-- 21995\n"
     ]
    }
   ],
   "source": [
    "from dotenv import load_dotenv\n",
    "load_dotenv()\n",
    "\n",
    "!curl  -o input.txt 'https://adventofcode.com/2022/day/3/input' -H \"Cookie: session=$COOKIE\"\n",
    "\n",
    "with open(\"input.txt\", \"r\") as f:\n",
    "    raw_input = f.read()"
   ]
  },
  {
   "cell_type": "markdown",
   "metadata": {},
   "source": [
    "--- Part One ---\n",
    "- same number of items in each of its two compartments, so `len(line) % 2 == 0`\n",
    "- first half of the characters represent items in the first compartment\n",
    "- second half of the characters represent items in the second compartment\n",
    "\n",
    "Task: Sum priorities if 1 letter in first and second compartment are the same.\n",
    "\n",
    "NOTE: The explanations about \"item types\" can be ignored. It's rather confusing, than helpful. A better explanation was [given by William Feng](https://www.youtube.com/watch?v=xqO_z2gkXkM)."
   ]
  },
  {
   "cell_type": "code",
   "execution_count": 3,
   "metadata": {},
   "outputs": [],
   "source": [
    "example_input = \"\"\"vJrwpWtwJgWrhcsFMMfFFhFp\n",
    "jqHRNqRjqzjGDLGLrsFMfFZSrLrFZsSL\n",
    "PmmdzqPrVvPwwTWBwg\n",
    "wMqvLMZHhHMvwLHjbvcjnnSBnvTQFn\n",
    "ttgJtRGJQctTZtZT\n",
    "CrZsJsPPZsGzwwsLwLmpwMDw\"\"\""
   ]
  },
  {
   "cell_type": "code",
   "execution_count": 38,
   "metadata": {},
   "outputs": [
    {
     "data": {
      "text/plain": [
       "7581"
      ]
     },
     "execution_count": 38,
     "metadata": {},
     "output_type": "execute_result"
    }
   ],
   "source": [
    "from string import ascii_lowercase, ascii_uppercase\n",
    "\n",
    "a_zA_Z = ascii_lowercase + ascii_uppercase\n",
    "\n",
    "sum_of_priorities = 0\n",
    "\n",
    "for rucksack in raw_input.splitlines():\n",
    "\n",
    "    n_items = len(rucksack)\n",
    "    compartment_1 = rucksack[:n_items // 2]\n",
    "    compartment_2 = rucksack[n_items // 2:]\n",
    "\n",
    "    for letter in a_zA_Z:\n",
    "        if letter in compartment_1 and letter in compartment_2:\n",
    "            sum_of_priorities += a_zA_Z.index(letter) + 1\n",
    "\n",
    "sum_of_priorities"
   ]
  },
  {
   "cell_type": "markdown",
   "metadata": {},
   "source": [
    "--- Part Two ---"
   ]
  },
  {
   "cell_type": "code",
   "execution_count": 42,
   "metadata": {},
   "outputs": [
    {
     "data": {
      "text/plain": [
       "2525"
      ]
     },
     "execution_count": 42,
     "metadata": {},
     "output_type": "execute_result"
    }
   ],
   "source": [
    "sum_of_priorities = 0\n",
    "\n",
    "# Iterate over groups of 3 rucksacks\n",
    "for rucksack_1, rucksack_2, rucksack_3 in zip(*[iter(raw_input.splitlines())] * 3):\n",
    "    \n",
    "    # Check if a letter is in all 3 rucksacks\n",
    "    for letter in a_zA_Z:\n",
    "        if letter in rucksack_1 and letter in rucksack_2 and letter in rucksack_3:\n",
    "            sum_of_priorities += a_zA_Z.index(letter) + 1\n",
    "\n",
    "sum_of_priorities"
   ]
  }
 ],
 "metadata": {
  "kernelspec": {
   "display_name": "Python 3.9.14 64-bit ('dev1')",
   "language": "python",
   "name": "python3"
  },
  "language_info": {
   "codemirror_mode": {
    "name": "ipython",
    "version": 3
   },
   "file_extension": ".py",
   "mimetype": "text/x-python",
   "name": "python",
   "nbconvert_exporter": "python",
   "pygments_lexer": "ipython3",
   "version": "3.9.14"
  },
  "orig_nbformat": 4,
  "vscode": {
   "interpreter": {
    "hash": "43024da5a2ed88f77cfc76b331d197ce3f9b07e215683ddd297a183bcee9c4e4"
   }
  }
 },
 "nbformat": 4,
 "nbformat_minor": 2
}
