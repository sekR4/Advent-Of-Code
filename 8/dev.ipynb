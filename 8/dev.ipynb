{
 "cells": [
  {
   "cell_type": "code",
   "execution_count": 1,
   "metadata": {},
   "outputs": [],
   "source": [
    "from utils import get_input"
   ]
  },
  {
   "cell_type": "code",
   "execution_count": 3,
   "metadata": {},
   "outputs": [
    {
     "name": "stdout",
     "output_type": "stream",
     "text": [
      "Using local input file\n"
     ]
    }
   ],
   "source": [
    "raw_input = get_input(8)"
   ]
  },
  {
   "cell_type": "code",
   "execution_count": 8,
   "metadata": {},
   "outputs": [],
   "source": [
    "example_input = \"\"\"30373\n",
    "25512\n",
    "65332\n",
    "33549\n",
    "35390\"\"\""
   ]
  },
  {
   "cell_type": "code",
   "execution_count": null,
   "metadata": {},
   "outputs": [],
   "source": [
    "def calculate_n_outside_trees(n_rows, n_cols):\n",
    "    # n_outside_trees = perimeter - corners\n",
    "    # n_outside_trees = 2 * (n_rows + n_cols) - 4\n",
    "    return 2 * (n_rows + n_cols) - 4"
   ]
  },
  {
   "cell_type": "code",
   "execution_count": 18,
   "metadata": {},
   "outputs": [
    {
     "name": "stdout",
     "output_type": "stream",
     "text": [
      "[3, 0, 3, 7, 3]\n",
      "[2, 5, 5, 1, 2]\n",
      "[6, 5, 3, 3, 2]\n",
      "[3, 3, 5, 4, 9]\n",
      "[3, 5, 3, 9, 0]\n"
     ]
    }
   ],
   "source": [
    "matrix = []\n",
    "for line in example_input.splitlines():\n",
    "    digits = [int(d) for d in line]\n",
    "    matrix.append(digits)\n",
    "\n",
    "\n",
    "\n",
    "n_rows = len(matrix)\n",
    "n_cols = len(matrix[0])\n",
    "\n",
    "# print(n_rows, n_cols)\n",
    "# calculate_n_outside_trees(n_rows, n_cols)"
   ]
  },
  {
   "cell_type": "code",
   "execution_count": 34,
   "metadata": {},
   "outputs": [
    {
     "name": "stdout",
     "output_type": "stream",
     "text": [
      "[3, 0, 3, 7, 3]\n",
      "[2, 5, 5, 1, 2]\n",
      "[6, 5, 3, 3, 2]\n",
      "[3, 3, 5, 4, 9]\n",
      "[3, 5, 3, 9, 0]\n"
     ]
    },
    {
     "data": {
      "text/plain": [
       "4"
      ]
     },
     "execution_count": 34,
     "metadata": {},
     "output_type": "execute_result"
    }
   ],
   "source": [
    "print(*matrix, sep=\"\\n\")\n",
    "\n",
    "# Iterate through inner matrix (exclude the outermost rows and columns)\n",
    "x, y = 3, 3\n",
    "matrix[x][y]\n"
   ]
  },
  {
   "cell_type": "code",
   "execution_count": 32,
   "metadata": {},
   "outputs": [
    {
     "data": {
      "text/plain": [
       "4"
      ]
     },
     "execution_count": 32,
     "metadata": {},
     "output_type": "execute_result"
    }
   ],
   "source": []
  },
  {
   "cell_type": "code",
   "execution_count": null,
   "metadata": {},
   "outputs": [],
   "source": []
  }
 ],
 "metadata": {
  "kernelspec": {
   "display_name": "Python 3.9.14 64-bit ('dev1')",
   "language": "python",
   "name": "python3"
  },
  "language_info": {
   "codemirror_mode": {
    "name": "ipython",
    "version": 3
   },
   "file_extension": ".py",
   "mimetype": "text/x-python",
   "name": "python",
   "nbconvert_exporter": "python",
   "pygments_lexer": "ipython3",
   "version": "3.9.14 (main, Nov  2 2022, 14:41:24) \n[Clang 14.0.0 (clang-1400.0.29.202)]"
  },
  "orig_nbformat": 4,
  "vscode": {
   "interpreter": {
    "hash": "43024da5a2ed88f77cfc76b331d197ce3f9b07e215683ddd297a183bcee9c4e4"
   }
  }
 },
 "nbformat": 4,
 "nbformat_minor": 2
}
