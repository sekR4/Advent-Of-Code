{
 "cells": [
  {
   "cell_type": "code",
   "execution_count": 3,
   "metadata": {},
   "outputs": [
    {
     "name": "stdout",
     "output_type": "stream",
     "text": [
      "  % Total    % Received % Xferd  Average Speed   Time    Time     Time  Current\n",
      "                                 Dload  Upload   Total   Spent    Left  Speed\n",
      "100 11893  100 11893    0     0  26113      0 --:--:-- --:--:-- --:--:-- 26253\n"
     ]
    }
   ],
   "source": [
    "from dotenv import load_dotenv\n",
    "load_dotenv()\n",
    "\n",
    "!curl  -o input.txt 'https://adventofcode.com/2022/day/7/input' -H \"Cookie: session=$COOKIE\""
   ]
  },
  {
   "cell_type": "code",
   "execution_count": 4,
   "metadata": {},
   "outputs": [],
   "source": [
    "with open(\"input.txt\", \"r\") as f:\n",
    "    raw_input = f.read()"
   ]
  },
  {
   "cell_type": "code",
   "execution_count": 5,
   "metadata": {},
   "outputs": [],
   "source": [
    "example_input = \"\"\"$ cd /\n",
    "$ ls\n",
    "dir a\n",
    "14848514 b.txt\n",
    "8504156 c.dat\n",
    "dir d\n",
    "$ cd a\n",
    "$ ls\n",
    "dir e\n",
    "29116 f\n",
    "2557 g\n",
    "62596 h.lst\n",
    "$ cd e\n",
    "$ ls\n",
    "584 i\n",
    "$ cd ..\n",
    "$ cd ..\n",
    "$ cd d\n",
    "$ ls\n",
    "4060174 j\n",
    "8033020 d.log\n",
    "5626152 d.ext\n",
    "7214296 k\"\"\""
   ]
  },
  {
   "cell_type": "code",
   "execution_count": 49,
   "metadata": {},
   "outputs": [
    {
     "name": "stdout",
     "output_type": "stream",
     "text": [
      "0 /\n",
      "6 /a\n",
      "12 /a/e\n",
      "15 /a\n",
      "16 /\n",
      "17 /d\n"
     ]
    }
   ],
   "source": [
    "pwd = \"\"\n",
    "\n",
    "for i,line in enumerate(example_input.splitlines()):\n",
    "    # print(line)\n",
    "\n",
    "    # Distinguish between commands and output\n",
    "    \n",
    "    # Commands start with $\n",
    "    if line.startswith(\"$\"):\n",
    "\n",
    "        # Distinguish between cd and ls \n",
    "        # cd changes the pwd\n",
    "        if line.split(\" \")[1] == \"cd\":\n",
    "            if line.split(\" \")[2] == \"/\":\n",
    "                pwd = \"/\"\n",
    "            elif line.split(\" \")[2].isalnum():\n",
    "                if pwd == \"/\":\n",
    "                    pwd = pwd + line.split(\" \")[2]\n",
    "                else:\n",
    "                    pwd = pwd + \"/\" +line.split(\" \")[2]\n",
    "            elif line.split(\" \")[2] == \"..\":\n",
    "                pwd = \"/\".join(pwd.split(\"/\")[:-1])\n",
    "                if pwd == \"\":\n",
    "                    pwd = \"/\"\n",
    "\n",
    "            print(i, pwd)\n",
    "        # ls lists the contents of the pwd\n",
    "        elif line.split(\" \")[1] == \"ls\":\n",
    "            ...\n",
    "    \n",
    "    # Output doesn't start with $\n",
    "    else:\n",
    "        ...\n"
   ]
  },
  {
   "cell_type": "code",
   "execution_count": 45,
   "metadata": {},
   "outputs": [],
   "source": [
    "pwd = \"\"\n",
    "def get_pwd(line, pwd):\n",
    "    if line.startswith(\"$\"):\n",
    "        if line.split(\" \")[1] == \"cd\":\n",
    "            if line.split(\" \")[2] == \"/\":\n",
    "                pwd = \"/\"\n",
    "            elif line.split(\" \")[2].isalnum():\n",
    "                if pwd == \"/\":\n",
    "                    pwd = pwd + line.split(\" \")[2]\n",
    "                else:\n",
    "                    pwd = pwd + \"/\" +line.split(\" \")[2]\n",
    "            elif line.split(\" \")[2] == \"..\":\n",
    "                pwd = \"/\".join(pwd.split(\"/\")[:-1])\n",
    "                if pwd == \"\":\n",
    "                    pwd = \"/\"\n",
    "    return pwd"
   ]
  },
  {
   "cell_type": "code",
   "execution_count": 50,
   "metadata": {},
   "outputs": [
    {
     "name": "stdout",
     "output_type": "stream",
     "text": [
      "0 /\n",
      "1 /\n",
      "2 /\n",
      "3 /\n",
      "4 /\n",
      "5 /\n",
      "6 /a\n",
      "7 /a\n",
      "8 /a\n",
      "9 /a\n",
      "10 /a\n",
      "11 /a\n",
      "12 /a/e\n",
      "13 /a/e\n",
      "14 /a/e\n",
      "15 /a\n",
      "16 /\n",
      "17 /d\n",
      "18 /d\n",
      "19 /d\n",
      "20 /d\n",
      "21 /d\n",
      "22 /d\n"
     ]
    }
   ],
   "source": [
    "pwd = \"\"\n",
    "for i,line in enumerate(example_input.splitlines()):\n",
    "    pwd = get_pwd(line, pwd)\n",
    "    print(i,pwd)"
   ]
  },
  {
   "cell_type": "code",
   "execution_count": null,
   "metadata": {},
   "outputs": [],
   "source": []
  }
 ],
 "metadata": {
  "kernelspec": {
   "display_name": "Python 3.9.14 64-bit ('dev1')",
   "language": "python",
   "name": "python3"
  },
  "language_info": {
   "codemirror_mode": {
    "name": "ipython",
    "version": 3
   },
   "file_extension": ".py",
   "mimetype": "text/x-python",
   "name": "python",
   "nbconvert_exporter": "python",
   "pygments_lexer": "ipython3",
   "version": "3.9.14"
  },
  "orig_nbformat": 4,
  "vscode": {
   "interpreter": {
    "hash": "43024da5a2ed88f77cfc76b331d197ce3f9b07e215683ddd297a183bcee9c4e4"
   }
  }
 },
 "nbformat": 4,
 "nbformat_minor": 2
}
