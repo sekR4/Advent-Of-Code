{
 "cells": [
  {
   "cell_type": "code",
   "execution_count": 2,
   "metadata": {},
   "outputs": [
    {
     "data": {
      "text/plain": [
       "True"
      ]
     },
     "execution_count": 2,
     "metadata": {},
     "output_type": "execute_result"
    }
   ],
   "source": [
    "from dotenv import load_dotenv\n",
    "load_dotenv()"
   ]
  },
  {
   "cell_type": "code",
   "execution_count": 3,
   "metadata": {},
   "outputs": [
    {
     "name": "stderr",
     "output_type": "stream",
     "text": [
      "  % Total    % Received % Xferd  Average Speed   Time    Time     Time  Current\n",
      "                                 Dload  Upload   Total   Spent    Left  Speed\n",
      "100 10000  100 10000    0     0  14534      0 --:--:-- --:--:-- --:--:-- 14598\n"
     ]
    }
   ],
   "source": [
    "%%bash\n",
    "curl  -o input.txt 'https://adventofcode.com/2022/day/2/input' -H \"Cookie: session=$COOKIE\""
   ]
  },
  {
   "cell_type": "code",
   "execution_count": 1,
   "metadata": {},
   "outputs": [],
   "source": [
    "with open(\"input.txt\", \"r\") as f:\n",
    "    raw_input = f.read()"
   ]
  },
  {
   "cell_type": "markdown",
   "metadata": {},
   "source": [
    "--- Part One ---\n",
    "- Col1: A for Rock, B for Paper, and C for Scissors\n",
    "- Col2: X for Rock, Y for Paper, and Z for Scissors\n",
    "\n",
    "- **total score** is the sum of your scores for each round\n",
    "- total score = shape score + outcome score\n",
    "- **score for shape** you selected (1 for Rock, 2 for Paper, and 3 for Scissors)\n",
    "- **score for outcome** of the round (0 if you lost, 3 if the round was a draw, and 6 if you won)\n",
    "\n",
    "Task: Given the input, calculate the total score for all rounds."
   ]
  },
  {
   "cell_type": "code",
   "execution_count": 2,
   "metadata": {},
   "outputs": [],
   "source": [
    "# Create a rock paper scissors lookup table\n",
    "win_loose = {\n",
    "    \"rock\": \"scissors\",\n",
    "    \"paper\": \"rock\",\n",
    "    \"scissors\": \"paper\"\n",
    "}"
   ]
  },
  {
   "cell_type": "code",
   "execution_count": 34,
   "metadata": {},
   "outputs": [
    {
     "name": "stdout",
     "output_type": "stream",
     "text": [
      "rock\n"
     ]
    }
   ],
   "source": [
    "# find key value pair where value is scissors\n",
    "for key, value in win_loose.items():\n",
    "    if value == \"scissors\":\n",
    "        print(key)\n"
   ]
  },
  {
   "cell_type": "code",
   "execution_count": 3,
   "metadata": {},
   "outputs": [],
   "source": [
    "# Map input to rock paper scissors\n",
    "input_translation = {\"A\": \"rock\", \"B\": \"paper\", \"C\": \"scissors\", \"X\": \"rock\", \"Y\": \"paper\", \"Z\": \"scissors\"}"
   ]
  },
  {
   "cell_type": "code",
   "execution_count": 4,
   "metadata": {},
   "outputs": [
    {
     "data": {
      "text/plain": [
       "[['C', 'Z'], ['A', 'Y'], ['C', 'Z']]"
      ]
     },
     "execution_count": 4,
     "metadata": {},
     "output_type": "execute_result"
    }
   ],
   "source": [
    "list_of_rounds = [i.split() for i in raw_input.splitlines()]\n",
    "list_of_rounds[:3]"
   ]
  },
  {
   "cell_type": "code",
   "execution_count": 5,
   "metadata": {},
   "outputs": [],
   "source": [
    "def outcome_score(elf:str, me:str)->int:\n",
    "    # DRAW\n",
    "    if elf == me:   \n",
    "        return 3\n",
    "    \n",
    "    # Elf wins, I LOSE\n",
    "    elif win_loose[elf] == me:\n",
    "        return 0\n",
    "    \n",
    "    # I WIN, elf loses\n",
    "    elif win_loose[me] == elf:\n",
    "        return 6\n",
    "\n",
    "    # raise error if there is no winner or draw\n",
    "    else:\n",
    "        raise ValueError(\"No result\")"
   ]
  },
  {
   "cell_type": "code",
   "execution_count": 6,
   "metadata": {},
   "outputs": [],
   "source": [
    "def shape_score(shape:str)->int:\n",
    "    if shape == \"rock\":\n",
    "        return 1\n",
    "    elif shape == \"paper\":\n",
    "        return 2\n",
    "    elif shape == \"scissors\":\n",
    "        return 3\n",
    "    else:\n",
    "        raise ValueError(\"No result\")"
   ]
  },
  {
   "cell_type": "code",
   "execution_count": 56,
   "metadata": {},
   "outputs": [
    {
     "data": {
      "text/plain": [
       "12586"
      ]
     },
     "execution_count": 56,
     "metadata": {},
     "output_type": "execute_result"
    }
   ],
   "source": [
    "_sum = 0\n",
    "\n",
    "for _round in list_of_rounds:\n",
    "    \n",
    "    # translate input to rock paper scissors\n",
    "    elf, me = [input_translation[i] for i in _round]\n",
    "\n",
    "    # calculate total score\n",
    "    total_score = outcome_score(elf, me) + shape_score(me)\n",
    "\n",
    "    # add to sum\n",
    "    _sum += total_score\n",
    "\n",
    "_sum"
   ]
  },
  {
   "cell_type": "markdown",
   "metadata": {},
   "source": [
    "--- Part Two ---\n",
    "\n",
    "\"[...] the second column says how the round needs to end: \n",
    "- X means you need to lose, \n",
    "- Y means you need to end the round in a draw, and \n",
    "- Z means you need to win.\" (The Elf)\n",
    "\n",
    "Task: Given the input, calculate the total score for all rounds according to the expected outcomes."
   ]
  },
  {
   "cell_type": "code",
   "execution_count": 51,
   "metadata": {},
   "outputs": [
    {
     "name": "stdout",
     "output_type": "stream",
     "text": [
      "scissors\n",
      "paper\n",
      "rock\n"
     ]
    }
   ],
   "source": [
    "def win_loose_shape(elf: str, expected_outcome: str) -> str:\n",
    "    # WIN\n",
    "    if expected_outcome == \"Z\":\n",
    "        for key, value in win_loose.items():\n",
    "            if value == elf:\n",
    "                return key\n",
    "                \n",
    "    # DRAW\n",
    "    elif expected_outcome == \"Y\":\n",
    "        return elf\n",
    "\n",
    "    # LOSE\n",
    "    elif expected_outcome == \"X\":\n",
    "        return win_loose[elf]\n",
    "\n",
    "# WIN\n",
    "print(win_loose_shape(\"paper\", \"Z\"))\n",
    "\n",
    "# DRAW\n",
    "print(win_loose_shape(\"paper\", \"Y\"))\n",
    "\n",
    "# LOSE\n",
    "print(win_loose_shape(\"paper\", \"X\"))\n"
   ]
  },
  {
   "cell_type": "code",
   "execution_count": 53,
   "metadata": {},
   "outputs": [
    {
     "data": {
      "text/plain": [
       "13193"
      ]
     },
     "execution_count": 53,
     "metadata": {},
     "output_type": "execute_result"
    }
   ],
   "source": [
    "_sum = 0\n",
    "\n",
    "for _round in list_of_rounds:\n",
    "    \n",
    "    # WIN(Z), DRAW(Y), LOSE(X)\n",
    "    expected_outcome = _round[1]\n",
    "    \n",
    "    # translate input to rock paper scissors\n",
    "    elf, _  = [input_translation[i] for i in _round]\n",
    "\n",
    "    required_shape = win_loose_shape(elf, expected_outcome)\n",
    "\n",
    "    # calculate total score\n",
    "    total_score = outcome_score(elf, required_shape) + shape_score(required_shape)\n",
    "    _sum += total_score\n",
    "\n",
    "_sum"
   ]
  }
 ],
 "metadata": {
  "kernelspec": {
   "display_name": "Python 3.9.14 64-bit ('dev1')",
   "language": "python",
   "name": "python3"
  },
  "language_info": {
   "codemirror_mode": {
    "name": "ipython",
    "version": 3
   },
   "file_extension": ".py",
   "mimetype": "text/x-python",
   "name": "python",
   "nbconvert_exporter": "python",
   "pygments_lexer": "ipython3",
   "version": "3.9.14"
  },
  "orig_nbformat": 4,
  "vscode": {
   "interpreter": {
    "hash": "f4eb9771041d31edc4c64dee4c24a44c66d64e27aa4984b6f0fae3cd2c802575"
   }
  }
 },
 "nbformat": 4,
 "nbformat_minor": 2
}
