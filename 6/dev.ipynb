{
 "cells": [
  {
   "cell_type": "code",
   "execution_count": 1,
   "metadata": {},
   "outputs": [
    {
     "name": "stdout",
     "output_type": "stream",
     "text": [
      "  % Total    % Received % Xferd  Average Speed   Time    Time     Time  Current\n",
      "                                 Dload  Upload   Total   Spent    Left  Speed\n",
      "100  4096  100  4096    0     0   6942      0 --:--:-- --:--:-- --:--:--  6977\n"
     ]
    }
   ],
   "source": [
    "from dotenv import load_dotenv\n",
    "load_dotenv()\n",
    "\n",
    "!curl  -o input.txt 'https://adventofcode.com/2022/day/6/input' -H \"Cookie: session=$COOKIE\""
   ]
  },
  {
   "cell_type": "code",
   "execution_count": 2,
   "metadata": {},
   "outputs": [],
   "source": [
    "with open(\"input.txt\", \"r\") as f:\n",
    "    raw_input = f.read()"
   ]
  },
  {
   "cell_type": "markdown",
   "metadata": {},
   "source": [
    "--- Part One ---\n",
    "\n",
    "- start-of-packet marker ~ sequence of 4 different chars\n",
    "- How many characters need to be processed before the first start-of-packet marker is detected?"
   ]
  },
  {
   "cell_type": "code",
   "execution_count": 3,
   "metadata": {},
   "outputs": [],
   "source": [
    "example_input = \"zcfzfwzzqfrljwzlrfnpqdbhtmscgvjw\""
   ]
  },
  {
   "cell_type": "code",
   "execution_count": 4,
   "metadata": {},
   "outputs": [],
   "source": [
    "def first_marker(seq: str, n_unique_chars: int) -> int:\n",
    "    \"\"\"Returns number of characters need to be processed before the\n",
    "    first start-of-packet marker is detected\n",
    "\n",
    "    Parameters\n",
    "    ----------\n",
    "    seq : str\n",
    "        Sequence of characters to be processed\n",
    "\n",
    "    n_unique_chars : int\n",
    "        Number of unique characters in sequence\n",
    "\n",
    "    Returns\n",
    "    -------\n",
    "    int\n",
    "        Number of characters need to be processed before the first\n",
    "        start-of-packet marker is detected\n",
    "    \"\"\"\n",
    "    for i, _ in enumerate(seq):\n",
    "        sequence = seq[i : i + n_unique_chars]\n",
    "        if len(set(sequence)) == len(sequence):\n",
    "            return i + n_unique_chars"
   ]
  },
  {
   "cell_type": "code",
   "execution_count": 5,
   "metadata": {},
   "outputs": [
    {
     "data": {
      "text/plain": [
       "1757"
      ]
     },
     "execution_count": 5,
     "metadata": {},
     "output_type": "execute_result"
    }
   ],
   "source": [
    "first_marker(seq=raw_input, n_unique_chars=4)"
   ]
  },
  {
   "cell_type": "code",
   "execution_count": 6,
   "metadata": {},
   "outputs": [
    {
     "data": {
      "text/plain": [
       "2950"
      ]
     },
     "execution_count": 6,
     "metadata": {},
     "output_type": "execute_result"
    }
   ],
   "source": [
    "first_marker(seq=raw_input, n_unique_chars=14)"
   ]
  }
 ],
 "metadata": {
  "kernelspec": {
   "display_name": "Python 3.9.14 64-bit ('dev1')",
   "language": "python",
   "name": "python3"
  },
  "language_info": {
   "codemirror_mode": {
    "name": "ipython",
    "version": 3
   },
   "file_extension": ".py",
   "mimetype": "text/x-python",
   "name": "python",
   "nbconvert_exporter": "python",
   "pygments_lexer": "ipython3",
   "version": "3.9.14"
  },
  "orig_nbformat": 4,
  "vscode": {
   "interpreter": {
    "hash": "43024da5a2ed88f77cfc76b331d197ce3f9b07e215683ddd297a183bcee9c4e4"
   }
  }
 },
 "nbformat": 4,
 "nbformat_minor": 2
}
